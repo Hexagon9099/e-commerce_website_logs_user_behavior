{
 "cells": [
  {
   "cell_type": "code",
   "execution_count": 1,
   "id": "9ab242d8-ae49-4120-80b2-c3c5b9d9f31a",
   "metadata": {},
   "outputs": [],
   "source": [
    "import pyspark\n",
    "from pyspark.sql import SparkSession\n",
    "\n",
    "spark = SparkSession.builder \\\n",
    "    .master(\"local[*]\") \\\n",
    "    .appName('test') \\\n",
    "    .getOrCreate()"
   ]
  },
  {
   "cell_type": "code",
   "execution_count": 3,
   "id": "620e0991-71e6-4094-a57b-74ca6b0672a9",
   "metadata": {},
   "outputs": [
    {
     "name": "stdout",
     "output_type": "stream",
     "text": [
      "root\n",
      " |-- accessed_date: string (nullable = true)\n",
      " |-- duration_(secs): string (nullable = true)\n",
      " |-- network_protocol: string (nullable = true)\n",
      " |-- ip: string (nullable = true)\n",
      " |-- bytes: string (nullable = true)\n",
      " |-- accessed_Ffom: string (nullable = true)\n",
      " |-- age: string (nullable = true)\n",
      " |-- gender: string (nullable = true)\n",
      " |-- country: string (nullable = true)\n",
      " |-- membership: string (nullable = true)\n",
      " |-- language: string (nullable = true)\n",
      " |-- sales: string (nullable = true)\n",
      " |-- returned: string (nullable = true)\n",
      " |-- returned_amount: string (nullable = true)\n",
      " |-- pay_method: string (nullable = true)\n",
      "\n"
     ]
    }
   ],
   "source": [
    "df = spark.read \\\n",
    "    .option(\"header\", \"true\") \\\n",
    "    .csv ('dataset.csv')\n",
    "\n",
    "df.printSchema()"
   ]
  },
  {
   "cell_type": "code",
   "execution_count": 18,
   "id": "5122a9a1-7adb-4f1e-8387-36d542805ee8",
   "metadata": {
    "scrolled": true
   },
   "outputs": [
    {
     "name": "stdout",
     "output_type": "stream",
     "text": [
      "root\n",
      " |-- accessed_date: timestamp (nullable = true)\n",
      " |-- duration_sec: integer (nullable = true)\n",
      " |-- network_protocol: string (nullable = true)\n",
      " |-- ip: string (nullable = true)\n",
      " |-- bytes: integer (nullable = true)\n",
      " |-- accessed_from: string (nullable = true)\n",
      " |-- age: integer (nullable = true)\n",
      " |-- gender: string (nullable = true)\n",
      " |-- country: string (nullable = true)\n",
      " |-- account_type: string (nullable = true)\n",
      " |-- language: string (nullable = true)\n",
      " |-- sales: double (nullable = true)\n",
      " |-- refunded: string (nullable = true)\n",
      " |-- refunded_amount: double (nullable = true)\n",
      " |-- payment_method: string (nullable = false)\n",
      "\n"
     ]
    }
   ],
   "source": [
    "from pyspark.sql import types\n",
    "from pyspark.sql.functions import when\n",
    "from pyspark.sql.functions import expr\n",
    "from pyspark.sql.functions import initcap\n",
    "\n",
    "schema = types.StructType([\n",
    "    types.StructField('accessed_date', types.TimestampType(), True),\n",
    "    types.StructField('duration_(secs)', types.IntegerType(), True),\n",
    "    types.StructField('network_protocol', types.StringType(), True),\n",
    "    types.StructField('ip', types.StringType(), True),\n",
    "    types.StructField('bytes', types.IntegerType(), True),\n",
    "    types.StructField('accessed_Ffom', types.StringType(), True),\n",
    "    types.StructField('age', types.IntegerType(), True),\n",
    "    types.StructField('gender', types.StringType(), True),\n",
    "    types.StructField('country', types.StringType(), True),\n",
    "    types.StructField('membership', types.StringType(), True),\n",
    "    types.StructField('language', types.StringType(), True),\n",
    "    types.StructField('sales', types.DoubleType(), True),\n",
    "    types.StructField('returned', types.StringType(), True),\n",
    "    types.StructField('returned_amount', types.DoubleType(), True),\n",
    "    types.StructField('pay_method', types.StringType(), True)\n",
    "])\n",
    "\n",
    "df = spark.read \\\n",
    "    .option(\"header\", \"true\") \\\n",
    "    .schema(schema) \\\n",
    "    .csv ('dataset.csv')\n",
    "\n",
    "df =(\n",
    "    df \\\n",
    "            .withColumnRenamed('duration_(secs)', 'duration_sec') \\\n",
    "            .withColumnRenamed('accessed_Ffom', 'accessed_from') \\\n",
    "            .withColumnRenamed('membership', 'account_type') \\\n",
    "            .withColumnRenamed('returned', 'refunded') \\\n",
    "            .withColumnRenamed('returned_amount', 'refunded_amount') \\\n",
    "            .withColumnRenamed('pay_method', 'payment_method')\n",
    ")\n",
    "\n",
    "df = df.withColumn(\n",
    "    'payment_method',\n",
    "    when(df['payment_method'] == 'Debit Card', 'MasterCard')\n",
    "    .when(df['payment_method'] == 'Credit Card', 'Visa')\n",
    "    .when(df['payment_method'] == 'Cash', 'PayPal')\n",
    "    .otherwise('Other')\n",
    ")\n",
    "\n",
    "df = df.withColumn(\n",
    "    'accessed_from',\n",
    "    when(df['accessed_from'] == 'SafFRi', 'Safari')\n",
    "    .when(df['accessed_from'] == 'Others', 'Other')\n",
    "    .otherwise(df['accessed_from'])\n",
    ")\n",
    "\n",
    "df = df.withColumn(\n",
    "    'network_protocol',\n",
    "    when(df['network_protocol'] == 'HTTP  ', 'HTTP')\n",
    "    .otherwise(df['network_protocol'])\n",
    ")\n",
    "\n",
    "df = df.withColumn(\n",
    "    'gender',\n",
    "    when(df['gender'] == 'Unknown', None)\n",
    "    .otherwise(df['gender'])\n",
    ")\n",
    "\n",
    "df = df.withColumn(\"accessed_date\", expr(\"make_timestamp(2025, month(accessed_date), day(accessed_date), hour(accessed_date), minute(accessed_date), second(accessed_date))\"))\n",
    "\n",
    "df = df.withColumn(\"language\", initcap(df[\"language\"]))\n",
    "\n",
    "df.printSchema()"
   ]
  },
  {
   "cell_type": "code",
   "execution_count": 17,
   "id": "20f7465d-9485-4761-9d7b-513c1122c5b8",
   "metadata": {},
   "outputs": [
    {
     "name": "stdout",
     "output_type": "stream",
     "text": [
      "+-------------------+------------+----------------+---------------+-----+---------------+----+-------+-------+-------------+--------+------+--------+---------------+--------------+\n",
      "|      accessed_date|duration_sec|network_protocol|             ip|bytes|  accessed_from| age| gender|country| account_type|language| sales|refunded|refunded_amount|payment_method|\n",
      "+-------------------+------------+----------------+---------------+-----+---------------+----+-------+-------+-------------+--------+------+--------+---------------+--------------+\n",
      "|2025-03-15 22:03:13|        2583|           TCP  |212.121.212.197| 1726|          Other|  32|   Male|     IN|       Normal| Italian|  30.3|      No|            0.0|         Other|\n",
      "|2025-03-16 14:46:40|        2764|           TCP  |  176.31.228.78|  556|          Other|  27|   Male|     IT|       Normal|  French| 40.66|      No|            0.0|          Visa|\n",
      "|2025-03-15 09:32:36|        3723|            HTTP|  86.31.109.178|  579|        IOS App|  24|   Male|     GB|       Normal| Chinese|  29.6|      No|            0.0|          Visa|\n",
      "|2025-03-15 12:49:34|        3319|            HTTP|104.168.147.174|  264|    Android App|null|Unknown|     IN|Not Logged In| Chinese|   0.0|      No|            0.0|          Visa|\n",
      "|2025-03-16 14:15:29|        4640|           TCP  |  172.56.26.539| 5765|         Chrome|  28|   Male|     GB|      Premium| English| 20.92|      No|            0.0|          Visa|\n",
      "|2025-03-16 02:53:13|        4165|           TCP  |   46.17.99.342|  579|Mozilla Firefox|  31| Female|     RU|       Normal| English|1500.4|      No|            0.0|         Other|\n",
      "|2025-03-16 04:44:46|        3232|           TCP  |    76.67.175.5| 2319|Mozilla Firefox|  51| Female|     IT|      Premium| English| 15.15|      No|            0.0|         Other|\n",
      "|2025-03-15 01:01:28|        4657|            HTTP|   24.90.11.114| 3185|    Android App|  43| Female|     IN|      Premium| Chinese| 2.025|      No|            0.0|        PayPal|\n",
      "|2025-03-15 23:54:13|        2195|           TCP  |  5.250.209.246|  556|         Chrome|  34|   Male|     IT|       Normal| Russian|   0.0|     Yes|        1200.32|         Other|\n",
      "|2025-03-15 04:23:33|        4290|            HTTP|  67.20.175.133|  477|        IOS App|  50| Female|     US|      Premium| Chinese|909.72|      No|            0.0|    MasterCard|\n",
      "|2025-03-16 04:20:51|        3989|           TCP  | 70.195.194.343| 2267|         Chrome|  67| Female|     IT|      Premium| English|600.16|      No|            0.0|         Other|\n",
      "|2025-03-16 16:11:40|        4318|           TCP  |188.119.241.215|  589|          Other|  38| Female|     DE|       Normal| English| 15.69|      No|            0.0|        PayPal|\n",
      "|2025-03-15 13:04:26|        3735|            HTTP| 101.212.71.201|   40|    Android App|  47| Female|     IT|      Premium| Chinese|  54.9|      No|            0.0|        PayPal|\n",
      "|2025-03-15 21:22:49|        4959|           ICMP | 198.55.109.211|  149|    Android App|  45| Female|     CA|      Premium| Italian|2100.0|      No|            0.0|        PayPal|\n",
      "|2025-03-16 05:31:14|        4935|           TCP  | 83.110.197.240| 2267|          Other|  55| Female|     US|      Premium| English|   0.0|     Yes|        1103.97|        PayPal|\n",
      "|2025-03-16 13:00:19|        1907|           TCP  |  122.17.199.75| 3185| Microsoft Edge|  62|   Male|     CA|      Premium|Japanese|600.16|      No|            0.0|          Visa|\n",
      "|2025-03-16 10:15:12|        2940|           TCP  |106.221.134.141|  586| Microsoft Edge|  34| Female|     GB|       Normal| English| 10.46|      No|            0.0|          Visa|\n",
      "|2025-03-15 04:29:33|        2978|            HTTP|   67.59.214.88|  586|    Android App|  69| Female|     US|       Normal| Chinese|  36.4|      No|            0.0|        PayPal|\n",
      "|2025-03-16 17:19:40|        2922|           TCP  | 195.154.216.79|  515|Mozilla Firefox|  47|   Male|     JP|       Normal| English|   0.0|     Yes|           60.6|        PayPal|\n",
      "|2025-03-15 17:23:13|        1835|            HTTP| 149.102.99.133|  561|        IOS App|  62|   Male|     IT|       Normal| Chinese|   0.0|     Yes|          75.75|        PayPal|\n",
      "+-------------------+------------+----------------+---------------+-----+---------------+----+-------+-------+-------------+--------+------+--------+---------------+--------------+\n",
      "only showing top 20 rows\n",
      "\n"
     ]
    }
   ],
   "source": [
    "df = df.repartition(10)\n",
    "\n",
    "df.write.parquet('dataset_repartitioned_parquet')\n",
    "\n",
    "df = spark.read.parquet('dataset_repartitioned_parquet')\n",
    "\n",
    "df.show()"
   ]
  },
  {
   "cell_type": "code",
   "execution_count": null,
   "id": "fecafffb-aa19-4ad9-8641-1ddd6a25fb9f",
   "metadata": {},
   "outputs": [],
   "source": []
  }
 ],
 "metadata": {
  "kernelspec": {
   "display_name": "Python 3 (ipykernel)",
   "language": "python",
   "name": "python3"
  },
  "language_info": {
   "codemirror_mode": {
    "name": "ipython",
    "version": 3
   },
   "file_extension": ".py",
   "mimetype": "text/x-python",
   "name": "python",
   "nbconvert_exporter": "python",
   "pygments_lexer": "ipython3",
   "version": "3.10.0"
  }
 },
 "nbformat": 4,
 "nbformat_minor": 5
}
