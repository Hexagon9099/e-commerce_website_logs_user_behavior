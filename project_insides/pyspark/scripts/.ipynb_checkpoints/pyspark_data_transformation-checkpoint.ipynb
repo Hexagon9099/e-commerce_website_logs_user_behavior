{
 "cells": [
  {
   "cell_type": "code",
   "execution_count": 1,
   "id": "9ab242d8-ae49-4120-80b2-c3c5b9d9f31a",
   "metadata": {},
   "outputs": [],
   "source": [
    "import pyspark\n",
    "from pyspark.sql import SparkSession\n",
    "\n",
    "spark = SparkSession.builder \\\n",
    "    .master(\"local[*]\") \\\n",
    "    .appName('test') \\\n",
    "    .getOrCreate()"
   ]
  },
  {
   "cell_type": "code",
   "execution_count": 39,
   "id": "620e0991-71e6-4094-a57b-74ca6b0672a9",
   "metadata": {},
   "outputs": [
    {
     "name": "stdout",
     "output_type": "stream",
     "text": [
      "root\n",
      " |-- accessed_date: string (nullable = true)\n",
      " |-- duration_(secs): string (nullable = true)\n",
      " |-- network_protocol: string (nullable = true)\n",
      " |-- ip: string (nullable = true)\n",
      " |-- bytes: string (nullable = true)\n",
      " |-- accessed_Ffom: string (nullable = true)\n",
      " |-- age: string (nullable = true)\n",
      " |-- gender: string (nullable = true)\n",
      " |-- country: string (nullable = true)\n",
      " |-- membership: string (nullable = true)\n",
      " |-- language: string (nullable = true)\n",
      " |-- sales: string (nullable = true)\n",
      " |-- returned: string (nullable = true)\n",
      " |-- returned_amount: string (nullable = true)\n",
      " |-- pay_method: string (nullable = true)\n",
      "\n"
     ]
    }
   ],
   "source": [
    "df = spark.read \\\n",
    "    .option(\"header\", \"true\") \\\n",
    "    .csv ('dataset.csv')\n",
    "\n",
    "df.printSchema()"
   ]
  },
  {
   "cell_type": "code",
   "execution_count": 40,
   "id": "5122a9a1-7adb-4f1e-8387-36d542805ee8",
   "metadata": {},
   "outputs": [
    {
     "name": "stdout",
     "output_type": "stream",
     "text": [
      "root\n",
      " |-- accessed_date: timestamp (nullable = true)\n",
      " |-- duration_sec: integer (nullable = true)\n",
      " |-- network_protocol: string (nullable = true)\n",
      " |-- ip: string (nullable = true)\n",
      " |-- bytes: integer (nullable = true)\n",
      " |-- accessed_from: string (nullable = true)\n",
      " |-- age: integer (nullable = true)\n",
      " |-- gender: string (nullable = true)\n",
      " |-- country: string (nullable = true)\n",
      " |-- account_type: string (nullable = true)\n",
      " |-- language: string (nullable = true)\n",
      " |-- sales: double (nullable = true)\n",
      " |-- refunded: string (nullable = true)\n",
      " |-- refunded_amount: double (nullable = true)\n",
      " |-- payment_method: string (nullable = true)\n",
      "\n"
     ]
    }
   ],
   "source": [
    "from pyspark.sql import types\n",
    "\n",
    "schema = types.StructType([\n",
    "    types.StructField('accessed_date', types.TimestampType(), True),\n",
    "    types.StructField('duration_(secs)', types.IntegerType(), True),\n",
    "    types.StructField('network_protocol', types.StringType(), True),\n",
    "    types.StructField('ip', types.StringType(), True),\n",
    "    types.StructField('bytes', types.IntegerType(), True),\n",
    "    types.StructField('accessed_Ffom', types.StringType(), True),\n",
    "    types.StructField('age', types.IntegerType(), True),\n",
    "    types.StructField('gender', types.StringType(), True),\n",
    "    types.StructField('country', types.StringType(), True),\n",
    "    types.StructField('membership', types.StringType(), True),\n",
    "    types.StructField('language', types.StringType(), True),\n",
    "    types.StructField('sales', types.DoubleType(), True),\n",
    "    types.StructField('returned', types.StringType(), True),\n",
    "    types.StructField('returned_amount', types.DoubleType(), True),\n",
    "    types.StructField('pay_method', types.StringType(), True)\n",
    "])\n",
    "\n",
    "df = spark.read \\\n",
    "    .option(\"header\", \"true\") \\\n",
    "    .schema(schema) \\\n",
    "    .csv ('dataset.csv')\n",
    "\n",
    "df =(\n",
    "    df \\\n",
    "            .withColumnRenamed('duration_(secs)', 'duration_sec') \\\n",
    "            .withColumnRenamed('accessed_Ffom', 'accessed_from') \\\n",
    "            .withColumnRenamed('membership', 'account_type') \\\n",
    "            .withColumnRenamed('returned', 'refunded') \\\n",
    "            .withColumnRenamed('returned_amount', 'refunded_amount') \\\n",
    "            .withColumnRenamed('pay_method', 'payment_method')\n",
    ")\n",
    "\n",
    "df.printSchema()"
   ]
  },
  {
   "cell_type": "code",
   "execution_count": 41,
   "id": "20f7465d-9485-4761-9d7b-513c1122c5b8",
   "metadata": {},
   "outputs": [
    {
     "name": "stdout",
     "output_type": "stream",
     "text": [
      "+--------------------+------------+----------------+---------------+-----+---------------+----+-------+-------+-------------+--------+-------+--------+---------------+--------------+\n",
      "|       accessed_date|duration_sec|network_protocol|             ip|bytes|  accessed_from| age| gender|country| account_type|language|  sales|refunded|refunded_amount|payment_method|\n",
      "+--------------------+------------+----------------+---------------+-----+---------------+----+-------+-------+-------------+--------+-------+--------+---------------+--------------+\n",
      "|2017-03-15 05:42:...|        2020|            HTTP|    72.5.252.51| 2267|Mozilla Firefox|  51| Female|     PR|      Premium| Chinese| 224.75|      No|            0.0|          Cash|\n",
      "|2017-03-16 08:18:...|        4155|           TCP  |   95.88.20.251|   46|    Android App|  37|   Male|     IT|      Premium| English|  58.65|      No|            0.0|   Credit Card|\n",
      "|2017-03-16 00:05:...|        3980|           TCP  |    5.9.145.132|  556|    Android App|  27|   Male|     IT|       Normal| Italian| 121.98|      No|            0.0|   Credit Card|\n",
      "|2017-03-16 12:43:...|        3697|           TCP  | 147.147.67.114|  264|        IOS App|null|Unknown|     IT|Not Logged In| English|    0.0|      No|            0.0|          Cash|\n",
      "|2017-03-16 04:21:...|        2369|           TCP  |   70.195.64.57|  702|        IOS App|  45| Female|     GB|       Normal| English|    0.0|     Yes|          203.3|        Others|\n",
      "|2017-03-16 06:53:...|        1642|           TCP  |  90.208.46.129|   40|        IOS App|  43|   Male|     SE|      Premium| English|  10.46|      No|            0.0|   Credit Card|\n",
      "|2017-03-15 21:00:...|        2684|            HTTP| 196.249.96.195|   46|Mozilla Firefox|  67|   Male|     AU|      Premium| Italian| 162.64|      No|            0.0|          Cash|\n",
      "|2017-03-16 10:57:...|        3278|           TCP  |107.191.108.122| 3033| Microsoft Edge|  55| Female|     KR|      Premium| English|  11.73|      No|            0.0|          Cash|\n",
      "|2017-03-15 14:37:...|        3395|            HTTP|114.121.131.101|   46|        IOS App|null|Unknown|     IT|Not Logged In| Chinese|    0.0|      No|            0.0|   Credit Card|\n",
      "|2017-03-16 00:58:...|        4372|           TCP  |   23.96.208.79|  283|         Others|  40| Female|     CN|      Premium| English| 900.24|      No|            0.0|   Credit Card|\n",
      "|2017-03-16 02:52:...|        4185|           TCP  | 46.166.141.117| 1727|         Chrome|  58|   Male|     CA|       Normal| Spanish| 600.16|      No|            0.0|        Others|\n",
      "|2017-03-15 00:54:...|        1501|            HTTP|   24.114.66.46| 2985|    Android App|  53|   Male|     AT|      Premium| Chinese|    0.0|      No|            0.0|   Credit Card|\n",
      "|2017-03-15 20:56:...|        3447|            HTTP| 195.93.180.181|   46|         Safari|  67|   Male|     CH|      Premium| Russian| 900.24|      No|            0.0|          Cash|\n",
      "|2017-03-15 19:15:...|        2892|            HTTP| 178.70.187.162| 2001|         Safari|  58| Female|     IT|      Premium| Russian| 900.24|      No|            0.0|        Others|\n",
      "|2017-03-16 00:41:...|        3167|           TCP  |   23.19.80.183|  586|         Others|  18| Female|     GB|       Normal| Italian|3000.85|      No|            0.0|    Debit Card|\n",
      "|2017-03-15 10:47:...|        3335|            HTTP| 91.194.221.225|  586|         Chrome|  36| Female|     CH|       Normal| Chinese|   51.8|      No|            0.0|   Credit Card|\n",
      "|2017-03-16 02:40:...|        4516|           TCP  |  45.57.216.346| 5345|    Android App|  26| Female|     RU|      Premium| English|  81.32|      No|            0.0|   Credit Card|\n",
      "|2017-03-15 09:54:...|        4642|            HTTP|  88.179.198.59|  515|Mozilla Firefox|  61| Female|     IT|       Normal|  French|205.666|      No|            0.0|   Credit Card|\n",
      "|2017-03-15 16:36:...|        4096|            HTTP| 125.92.228.242|   40|    Android App|  21| Female|     IT|      Premium| Chinese| 107.52|      No|            0.0|          Cash|\n",
      "|2017-03-16 09:43:...|        2758|           TCP  | 104.160.228.79| 2985|    Android App|  49|   Male|     US|      Premium| English|  71.68|      No|            0.0|        Others|\n",
      "+--------------------+------------+----------------+---------------+-----+---------------+----+-------+-------+-------------+--------+-------+--------+---------------+--------------+\n",
      "only showing top 20 rows\n",
      "\n"
     ]
    }
   ],
   "source": [
    "df = df.repartition(10)\n",
    "\n",
    "df.write.parquet('dataset_repartitioned_parquet')\n",
    "\n",
    "df = spark.read.parquet('dataset_repartitioned_parquet')\n",
    "\n",
    "df.show()"
   ]
  },
  {
   "cell_type": "code",
   "execution_count": null,
   "id": "fecafffb-aa19-4ad9-8641-1ddd6a25fb9f",
   "metadata": {},
   "outputs": [],
   "source": []
  }
 ],
 "metadata": {
  "kernelspec": {
   "display_name": "Python 3 (ipykernel)",
   "language": "python",
   "name": "python3"
  },
  "language_info": {
   "codemirror_mode": {
    "name": "ipython",
    "version": 3
   },
   "file_extension": ".py",
   "mimetype": "text/x-python",
   "name": "python",
   "nbconvert_exporter": "python",
   "pygments_lexer": "ipython3",
   "version": "3.10.0"
  }
 },
 "nbformat": 4,
 "nbformat_minor": 5
}
